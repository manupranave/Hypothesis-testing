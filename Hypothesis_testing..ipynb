{
  "nbformat": 4,
  "nbformat_minor": 0,
  "metadata": {
    "colab": {
      "provenance": []
    },
    "kernelspec": {
      "name": "python3",
      "display_name": "Python 3"
    },
    "language_info": {
      "name": "python"
    }
  },
  "cells": [
    {
      "cell_type": "markdown",
      "source": [
        "# **HYPOTHESIS TESTING**"
      ],
      "metadata": {
        "id": "O-bEHDTtU_oi"
      }
    },
    {
      "cell_type": "markdown",
      "source": [
        "1. State the Hypotheses statement?"
      ],
      "metadata": {
        "id": "PZ3yuRRKVG94"
      }
    },
    {
      "cell_type": "markdown",
      "source": [
        "Hypothesis Testing is a statistical method that is used in making statistical decisions using experimental data.Hypothesis testing is basically an assumption that we make about the population parameter.\n",
        "\n",
        "--Null Hypothesis(H0):Argument made so far,or hypothesis saying that there is no change or difference.\n",
        "\n",
        "--Alternative Hypothesis(H1):New argument,that is a hypothesis that you want to prove with solid ground obtained from sample."
      ],
      "metadata": {
        "id": "25Ux2GBfVMqE"
      }
    },
    {
      "cell_type": "markdown",
      "source": [
        "2. Calculate the Test Statistic?"
      ],
      "metadata": {
        "id": "pywkM-nJY5Xm"
      }
    },
    {
      "cell_type": "markdown",
      "source": [
        "•\tˉxˉ = sample mean weekly cost (Rs. 3,050)\n",
        "\n",
        "•\tμ = theoretical mean weekly cost\n",
        "according to the cost model (W = $1,000 + $5X for X = 600 units)\n",
        "\n",
        "•\tσ = 5*25 units\n",
        "\n",
        "•\tn = sample size (25 restaurants)"
      ],
      "metadata": {
        "id": "6cw-U6JJZJEv"
      }
    },
    {
      "cell_type": "code",
      "execution_count": 2,
      "metadata": {
        "colab": {
          "base_uri": "https://localhost:8080/"
        },
        "id": "kEofeQmlU1bB",
        "outputId": "1047d52e-b280-4d08-adc1-0808a1015a4c"
      },
      "outputs": [
        {
          "output_type": "stream",
          "name": "stdout",
          "text": [
            "Test Statistic is : -38.0\n"
          ]
        }
      ],
      "source": [
        "x=3050\n",
        "mu=1000+5*600\n",
        "sigma=5*25\n",
        "n=25\n",
        "from scipy.stats import t\n",
        "import numpy as np\n",
        "from numpy import*\n",
        "test_stats=(x-mu)/(sigma/sqrt(n))\n",
        "print('Test Statistic is :',test_stats)"
      ]
    },
    {
      "cell_type": "markdown",
      "source": [
        "3. Determine the Critical Value?"
      ],
      "metadata": {
        "id": "yQNxOSTOagRc"
      }
    },
    {
      "cell_type": "markdown",
      "source": [
        "(α = 0.05)"
      ],
      "metadata": {
        "id": "aHaPvNCaa_3O"
      }
    },
    {
      "cell_type": "code",
      "source": [
        "alpha=0.05 #significance level\n",
        "df=n-1 #degrees of freedom(df)=sample size-1\n",
        "crit_value=t.ppf(1-alpha,df)\n",
        "print('Critical Value is :',crit_value)"
      ],
      "metadata": {
        "colab": {
          "base_uri": "https://localhost:8080/"
        },
        "id": "iWnbY7grapFX",
        "outputId": "b6f03582-9fe0-45f6-d0af-03a02b739280"
      },
      "execution_count": 3,
      "outputs": [
        {
          "output_type": "stream",
          "name": "stdout",
          "text": [
            "Critical Value is : 1.7108820799094275\n"
          ]
        }
      ]
    },
    {
      "cell_type": "markdown",
      "source": [
        "4. Make a Decision?"
      ],
      "metadata": {
        "id": "QFJiVJLjcDdM"
      }
    },
    {
      "cell_type": "code",
      "source": [
        "if test_stats>crit_value:\n",
        "  print('Reject The Null Hypothesis.')\n",
        "else:\n",
        "  print('Accept The Null Hypothesis.')"
      ],
      "metadata": {
        "colab": {
          "base_uri": "https://localhost:8080/"
        },
        "id": "blEPXF8hcGDd",
        "outputId": "4232ff7f-f58f-4ac5-944a-5b600a5be9f5"
      },
      "execution_count": 4,
      "outputs": [
        {
          "output_type": "stream",
          "name": "stdout",
          "text": [
            "Accept The Null Hypothesis.\n"
          ]
        }
      ]
    },
    {
      "cell_type": "markdown",
      "source": [
        "5. Conclusion?"
      ],
      "metadata": {
        "id": "X6yVyYgMcyEQ"
      }
    },
    {
      "cell_type": "markdown",
      "source": [
        "There is no enough evidence to support the claim that the weekly operating costs are higher than the model suggests."
      ],
      "metadata": {
        "id": "aP3b-9slc4N2"
      }
    }
  ]
}